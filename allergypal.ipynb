{
 "cells": [
  {
   "cell_type": "code",
   "execution_count": 25,
   "metadata": {},
   "outputs": [],
   "source": [
    "# Import necessary libraries for data handling, machine learning and visualization\n",
    "import numpy as np\n",
    "import tensorflow as tf\n",
    "from tensorflow.keras import callbacks\n",
    "from tensorflow.keras.models import Model\n",
    "from tensorflow.keras.utils import to_categorical\n",
    "from tensorflow.keras.optimizers import Adam\n",
    "from sklearn.model_selection import train_test_split\n",
    "from tensorflow.keras.applications import EfficientNetB0\n",
    "from tensorflow.keras.layers import Input, Dense, Flatten\n",
    "import matplotlib.image as img"
   ]
  },
  {
   "cell_type": "code",
   "execution_count": 26,
   "metadata": {},
   "outputs": [
    {
     "name": "stdout",
     "output_type": "stream",
     "text": [
      "Found 101000 files belonging to 101 classes.\n",
      "Using 80800 files for training.\n",
      "Found 101000 files belonging to 101 classes.\n",
      "Using 20200 files for validation.\n"
     ]
    }
   ],
   "source": [
    "# Create a training dataset from a directory of images, resizing them to 224x224, with 20% of the data used for validation\n",
    "train_ds = tf.keras.utils.image_dataset_from_directory(\n",
    "    directory ='C:/Users/User/Allergy-Pal/kaggle/input/food41/images',\n",
    "    image_size = (224, 224),\n",
    "    validation_split = 0.2, # Splitting 20% of data for validation\n",
    "    subset = \"training\", # Specify this as the training subset\n",
    "    seed = 42,\n",
    "    color_mode = 'rgb', # Images are in RGB format\n",
    "    shuffle = True , # Shuffle images during loading\n",
    "    label_mode = \"categorical\" , # Labels are categorical\n",
    "    batch_size = 32 # Process images in batches of 32\n",
    ")\n",
    "\n",
    "# Create a validation dataset using the same directory and parameters as the training dataset\n",
    "val_ds = tf.keras.utils.image_dataset_from_directory(\n",
    "    directory = 'C:/Users/User/Allergy-Pal/kaggle/input/food41/images',\n",
    "    image_size = (224, 224),\n",
    "    validation_split = 0.2,\n",
    "    subset = \"validation\", # Specify this as the validation subset\n",
    "    seed = 42,\n",
    "    color_mode = 'rgb',\n",
    "    label_mode = \"categorical\" , \n",
    "    batch_size = 32\n",
    ")"
   ]
  },
  {
   "cell_type": "code",
   "execution_count": 27,
   "metadata": {},
   "outputs": [
    {
     "name": "stdout",
     "output_type": "stream",
     "text": [
      "['apple_pie', 'baby_back_ribs', 'baklava', 'beef_carpaccio', 'beef_tartare', 'beet_salad', 'beignets', 'bibimbap', 'bread_pudding', 'breakfast_burrito', 'bruschetta', 'caesar_salad', 'cannoli', 'caprese_salad', 'carrot_cake', 'ceviche', 'cheesecake', 'cheese_plate', 'chicken_curry', 'chicken_quesadilla', 'chicken_wings', 'chocolate_cake', 'chocolate_mousse', 'churros', 'clam_chowder', 'club_sandwich', 'crab_cakes', 'creme_brulee', 'croque_madame', 'cup_cakes', 'deviled_eggs', 'donuts', 'dumplings', 'edamame', 'eggs_benedict', 'escargots', 'falafel', 'filet_mignon', 'fish_and_chips', 'foie_gras', 'french_fries', 'french_onion_soup', 'french_toast', 'fried_calamari', 'fried_rice', 'frozen_yogurt', 'garlic_bread', 'gnocchi', 'greek_salad', 'grilled_cheese_sandwich', 'grilled_salmon', 'guacamole', 'gyoza', 'hamburger', 'hot_and_sour_soup', 'hot_dog', 'huevos_rancheros', 'hummus', 'ice_cream', 'lasagna', 'lobster_bisque', 'lobster_roll_sandwich', 'macaroni_and_cheese', 'macarons', 'miso_soup', 'mussels', 'nachos', 'omelette', 'onion_rings', 'oysters', 'pad_thai', 'paella', 'pancakes', 'panna_cotta', 'peking_duck', 'pho', 'pizza', 'pork_chop', 'poutine', 'prime_rib', 'pulled_pork_sandwich', 'ramen', 'ravioli', 'red_velvet_cake', 'risotto', 'samosa', 'sashimi', 'scallops', 'seaweed_salad', 'shrimp_and_grits', 'spaghetti_bolognese', 'spaghetti_carbonara', 'spring_rolls', 'steak', 'strawberry_shortcake', 'sushi', 'tacos', 'takoyaki', 'tiramisu', 'tuna_tartare', 'waffles']\n"
     ]
    }
   ],
   "source": [
    "# Load the class names from a text file\n",
    "classes = []\n",
    "with open(\"C:/Users/User/Allergy-Pal/kaggle/input/food41/meta/meta/classes.txt\") as f:\n",
    "    for line in f.readlines():\n",
    "        classes.append(line.split(\"\\n\")[0]) # Strip out newline characters from the class names\n",
    "\n",
    "print(classes)"
   ]
  },
  {
   "cell_type": "code",
   "execution_count": 10,
   "metadata": {},
   "outputs": [],
   "source": [
    "img_size = (180 , 180) # Set image size for future use\n",
    "batch_size = 32 # Define batch size\n",
    "\n",
    "# Define a list of callback functions to improve model performance\n",
    "callback_list=[\n",
    "    # EarlyStopping stops training when validation accuracy doesn't improve for 10 epochs\n",
    "    callbacks.EarlyStopping(monitor=\"val_accuracy\",patience=10,restore_best_weights=True),\n",
    "    # Reduce learning rate when validation accuracy plateaus for 3 epochs\n",
    "    callbacks.ReduceLROnPlateau(factor=0.8,monitor=\"val_accuracy\",patience=3)\n",
    "]"
   ]
  },
  {
   "cell_type": "code",
   "execution_count": 11,
   "metadata": {},
   "outputs": [
    {
     "name": "stdout",
     "output_type": "stream",
     "text": [
      "Epoch 1/6\n",
      "\u001b[1m2525/2525\u001b[0m \u001b[32m━━━━━━━━━━━━━━━━━━━━\u001b[0m\u001b[37m\u001b[0m \u001b[1m1368s\u001b[0m 537ms/step - accuracy: 0.3579 - loss: 3.4313 - val_accuracy: 0.4625 - val_loss: 3.5084 - learning_rate: 0.0010\n",
      "Epoch 2/6\n",
      "\u001b[1m2525/2525\u001b[0m \u001b[32m━━━━━━━━━━━━━━━━━━━━\u001b[0m\u001b[37m\u001b[0m \u001b[1m3670s\u001b[0m 1s/step - accuracy: 0.5338 - loss: 2.7924 - val_accuracy: 0.4614 - val_loss: 4.8179 - learning_rate: 0.0010\n",
      "Epoch 3/6\n",
      "\u001b[1m2525/2525\u001b[0m \u001b[32m━━━━━━━━━━━━━━━━━━━━\u001b[0m\u001b[37m\u001b[0m \u001b[1m1740s\u001b[0m 689ms/step - accuracy: 0.5959 - loss: 2.8101 - val_accuracy: 0.4721 - val_loss: 6.1576 - learning_rate: 0.0010\n",
      "Epoch 4/6\n",
      "\u001b[1m2525/2525\u001b[0m \u001b[32m━━━━━━━━━━━━━━━━━━━━\u001b[0m\u001b[37m\u001b[0m \u001b[1m1731s\u001b[0m 686ms/step - accuracy: 0.6475 - loss: 2.7493 - val_accuracy: 0.4765 - val_loss: 7.2862 - learning_rate: 0.0010\n",
      "Epoch 5/6\n",
      "\u001b[1m2525/2525\u001b[0m \u001b[32m━━━━━━━━━━━━━━━━━━━━\u001b[0m\u001b[37m\u001b[0m \u001b[1m1748s\u001b[0m 692ms/step - accuracy: 0.6931 - loss: 2.6498 - val_accuracy: 0.4734 - val_loss: 9.1260 - learning_rate: 0.0010\n",
      "Epoch 6/6\n",
      "\u001b[1m2525/2525\u001b[0m \u001b[32m━━━━━━━━━━━━━━━━━━━━\u001b[0m\u001b[37m\u001b[0m \u001b[1m1739s\u001b[0m 689ms/step - accuracy: 0.7188 - loss: 2.6924 - val_accuracy: 0.4859 - val_loss: 10.4104 - learning_rate: 0.0010\n"
     ]
    }
   ],
   "source": [
    "# Load the base model without its final layers, using input images of size 224x224\n",
    "base_model = tf.keras.applications.EfficientNetB0(include_top = False , input_shape=(224 , 224 , 3))  \n",
    "\n",
    "# Freeze the base model's layers so they are not updated during training\n",
    "base_model.trainable = False \n",
    "\n",
    "# Build a custom model using the base model\n",
    "inputs = tf.keras.layers.Input(shape = (224 , 224 , 3) , name = \"Input_layer\") # Define the input layer\n",
    "x = base_model(inputs) # Pass input through the base model\n",
    "x = tf.keras.layers.Dense(101)(x) # Add a Dense layer with 101 units (for 101 classes)\n",
    "x = tf.keras.layers.Flatten()(x) # Flatten the output\n",
    "outputs = tf.keras.layers.Dense(101, activation = \"softmax\", name = \"Output_layer\")(x) # Output layer with softmax activatio\n",
    "\n",
    "# Create the final model\n",
    "Model_1 = tf.keras.Model(inputs, outputs) \n",
    "\n",
    "# Compile the model with categorical cross-entropy loss and Adam optimizer\n",
    "Model_1.compile(loss = tf.keras.losses.categorical_crossentropy, optimizer = tf.keras.optimizers.Adam(), metrics = ['accuracy'] )\n",
    "\n",
    "# Train the model for 6 epochs\n",
    "Model_1_History = Model_1.fit(train_ds, validation_data = val_ds, epochs = 6,verbose = 1, callbacks = callback_list)"
   ]
  },
  {
   "cell_type": "code",
   "execution_count": 12,
   "metadata": {},
   "outputs": [
    {
     "name": "stdout",
     "output_type": "stream",
     "text": [
      "Epoch 5/10\n",
      "\u001b[1m2525/2525\u001b[0m \u001b[32m━━━━━━━━━━━━━━━━━━━━\u001b[0m\u001b[37m\u001b[0m \u001b[1m1855s\u001b[0m 728ms/step - accuracy: 0.7412 - loss: 2.5725 - val_accuracy: 0.5276 - val_loss: 8.6143\n",
      "Epoch 6/10\n",
      "\u001b[1m2525/2525\u001b[0m \u001b[32m━━━━━━━━━━━━━━━━━━━━\u001b[0m\u001b[37m\u001b[0m \u001b[1m1496s\u001b[0m 592ms/step - accuracy: 0.8465 - loss: 1.0789\n",
      "Epoch 7/10\n"
     ]
    },
    {
     "name": "stderr",
     "output_type": "stream",
     "text": [
      "C:\\Users\\User\\anaconda3\\lib\\contextlib.py:137: UserWarning: Your input ran out of data; interrupting training. Make sure that your dataset or generator can generate at least `steps_per_epoch * epochs` batches. You may need to use the `.repeat()` function when building your dataset.\n",
      "  self.gen.throw(typ, value, traceback)\n"
     ]
    },
    {
     "name": "stdout",
     "output_type": "stream",
     "text": [
      "\u001b[1m2525/2525\u001b[0m \u001b[32m━━━━━━━━━━━━━━━━━━━━\u001b[0m\u001b[37m\u001b[0m \u001b[1m1835s\u001b[0m 727ms/step - accuracy: 0.8845 - loss: 0.7045 - val_accuracy: 0.5386 - val_loss: 7.8573\n",
      "Epoch 8/10\n",
      "\u001b[1m2525/2525\u001b[0m \u001b[32m━━━━━━━━━━━━━━━━━━━━\u001b[0m\u001b[37m\u001b[0m \u001b[1m1631s\u001b[0m 646ms/step - accuracy: 0.9044 - loss: 0.5240\n",
      "Epoch 9/10\n",
      "\u001b[1m2525/2525\u001b[0m \u001b[32m━━━━━━━━━━━━━━━━━━━━\u001b[0m\u001b[37m\u001b[0m \u001b[1m1851s\u001b[0m 733ms/step - accuracy: 0.9239 - loss: 0.3979 - val_accuracy: 0.5472 - val_loss: 7.6334\n",
      "Epoch 10/10\n",
      "\u001b[1m2525/2525\u001b[0m \u001b[32m━━━━━━━━━━━━━━━━━━━━\u001b[0m\u001b[37m\u001b[0m \u001b[1m1506s\u001b[0m 596ms/step - accuracy: 0.9330 - loss: 0.3341\n"
     ]
    }
   ],
   "source": [
    "# Unfreeze the base model for fine-tuning (except the last 10 layers)\n",
    "base_model.trainable = True\n",
    "for layer in base_model.layers[:-10]:\n",
    "    layer.trainable = False\n",
    "\n",
    "# Compile the model with a lower learning rate for fine-tuning\n",
    "Model_1.compile(loss = \"categorical_crossentropy\", optimizer = tf.keras.optimizers.Adam(learning_rate= 0.0001), metrics = [\"accuracy\"])\n",
    "\n",
    "# Set a total of 5 more epochs for fine-tuning\n",
    "initial_epoch = 5\n",
    "Fine_Tune_epoch = initial_epoch + 5\n",
    "\n",
    "# Continue training and fine-tuning the model\n",
    "Stage_2_history = Model_1.fit(train_ds, epochs = Fine_Tune_epoch, validation_data = val_ds, validation_steps = len(val_ds), initial_epoch = initial_epoch-1)"
   ]
  },
  {
   "cell_type": "code",
   "execution_count": 24,
   "metadata": {},
   "outputs": [
    {
     "name": "stdout",
     "output_type": "stream",
     "text": [
      "\u001b[1m1/1\u001b[0m \u001b[32m━━━━━━━━━━━━━━━━━━━━\u001b[0m\u001b[37m\u001b[0m \u001b[1m0s\u001b[0m 294ms/step\n",
      "This image most likely belongs to steak with a 96.83% percent confidence.\n"
     ]
    }
   ],
   "source": [
    "# Load an image from file and preprocess it for prediction\n",
    "img = tf.keras.utils.load_img(\"C:/Users/User/Downloads/steak123.jpg\", target_size=(224, 224)) # Resize image to 224x224\n",
    "img_array = tf.keras.utils.img_to_array(img) # Convert image to array\n",
    "img_array = tf.expand_dims(img_array, 0) # Add a batch dimension\n",
    "\n",
    "# Make predictions on the preprocessed image\n",
    "predictions = Model_1.predict(img_array)\n",
    "score = tf.nn.softmax(predictions[0]) # Apply softmax to get probabilities\n",
    "\n",
    "# Print the class prediction and confidence score\n",
    "print(\"This image most likely belongs to {} with a {:.2f}% percent confidence.\".format(classes[np.argmax(score)], 100 * np.max(predictions[0])))"
   ]
  }
 ],
 "metadata": {
  "kernelspec": {
   "display_name": "Python 3 (ipykernel)",
   "language": "python",
   "name": "python3"
  },
  "language_info": {
   "codemirror_mode": {
    "name": "ipython",
    "version": 3
   },
   "file_extension": ".py",
   "mimetype": "text/x-python",
   "name": "python",
   "nbconvert_exporter": "python",
   "pygments_lexer": "ipython3",
   "version": "3.9.12"
  }
 },
 "nbformat": 4,
 "nbformat_minor": 2
}
