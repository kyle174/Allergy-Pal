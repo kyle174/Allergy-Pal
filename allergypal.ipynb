{
 "cells": [
  {
   "cell_type": "code",
   "execution_count": null,
   "metadata": {},
   "outputs": [],
   "source": [
    "import os\n",
    "import numpy as np\n",
    "import pandas as pd\n",
    "import tensorflow as tf\n",
    "from tensorflow.keras import callbacks\n",
    "from tensorflow.keras.models import Model\n",
    "from tensorflow.keras.utils import to_categorical\n",
    "from tensorflow.keras.optimizers import Adam\n",
    "import matplotlib.pyplot as plt\n",
    "from sklearn.model_selection import train_test_split\n",
    "from tensorflow.keras.applications import EfficientNetB0\n",
    "from tensorflow.keras.layers import Input, Dense, Flatten\n",
    "import openai\n",
    "import matplotlib.image as img"
   ]
  },
  {
   "cell_type": "code",
   "execution_count": null,
   "metadata": {},
   "outputs": [],
   "source": [
    "train_ds = tf.keras.utils.image_dataset_from_directory(\n",
    "    directory ='C:/Users/User/Allergy-Pal/kaggle/input/food41/images',\n",
    "    image_size = (224, 224),\n",
    "    validation_split = 0.2,\n",
    "    subset = \"training\",\n",
    "    seed = 42,\n",
    "    color_mode = 'rgb',\n",
    "    shuffle = True , \n",
    "    label_mode=\"categorical\" , \n",
    "    batch_size=32\n",
    ")\n",
    "\n",
    "val_ds = tf.keras.utils.image_dataset_from_directory(\n",
    "    directory ='C:/Users/User/Allergy-Pal/kaggle/input/food41/images',\n",
    "    image_size = (224, 224),\n",
    "    validation_split = 0.2,\n",
    "    subset = \"validation\",\n",
    "    seed = 42,\n",
    "    color_mode = 'rgb',\n",
    "    label_mode=\"categorical\" , \n",
    "    batch_size=32\n",
    ")"
   ]
  },
  {
   "cell_type": "code",
   "execution_count": null,
   "metadata": {},
   "outputs": [],
   "source": [
    "classes = []\n",
    "with open(\"C:/Users/User/Allergy-Pal/kaggle/input/food41/meta/meta/classes.txt\") as f:\n",
    "    for line in f.readlines():\n",
    "        classes.append(line.split(\"\\n\")[0]) \n",
    "\n",
    "print(classes)"
   ]
  },
  {
   "cell_type": "code",
   "execution_count": null,
   "metadata": {},
   "outputs": [],
   "source": [
    "img_size = (180 , 180)\n",
    "batch_size = 32\n",
    "\n",
    "callback_list=[\n",
    "    callbacks.EarlyStopping(monitor=\"val_accuracy\",patience=10,restore_best_weights=True),\n",
    "    callbacks.ReduceLROnPlateau(factor=0.8,monitor=\"val_accuracy\",patience=3)\n",
    "]"
   ]
  },
  {
   "cell_type": "code",
   "execution_count": null,
   "metadata": {},
   "outputs": [],
   "source": [
    "base_model = tf.keras.applications.EfficientNetB0(include_top = False , input_shape=(224 , 224 , 3))  \n",
    "\n",
    "base_model.trainable = False \n",
    "\n",
    "inputs = tf.keras.layers.Input(shape = (224 , 224 , 3) , name = \"Input_layer\")\n",
    "x = base_model(inputs)\n",
    "x = tf.keras.layers.Dense(101)(x)\n",
    "x = tf.keras.layers.Flatten()(x)\n",
    "outputs = tf.keras.layers.Dense(101 , \n",
    "                                activation = \"softmax\" , \n",
    "                                name = \"Output_layer\")(x) \n",
    "Model_1 = tf.keras.Model(inputs , outputs) \n",
    "\n",
    "Model_1.compile(\n",
    "    loss = tf.keras.losses.categorical_crossentropy ,\n",
    "    optimizer = tf.keras.optimizers.Adam() , \n",
    "    metrics = ['accuracy'] \n",
    ")\n",
    "\n",
    "Model_1_History = Model_1.fit(train_ds \n",
    "                              , validation_data = val_ds ,\n",
    "                              epochs = 6  ,\n",
    "                              verbose = 1 ,\n",
    "                              callbacks = callback_list)"
   ]
  },
  {
   "cell_type": "code",
   "execution_count": null,
   "metadata": {},
   "outputs": [],
   "source": [
    "Model_1 = tf.keras.models.load_model(\"C:/Users/User/Allergy-Pal/model.keras\")\n",
    "\n",
    "base_model.trainable = True\n",
    "\n",
    "for layer in base_model.layers[:-10]:\n",
    "    layer.trainable = False\n",
    "\n",
    "Model_1.compile(loss = \"categorical_crossentropy\" ,\n",
    "                optimizer = tf.keras.optimizers.Adam(learning_rate= 0.0001), \n",
    "                metrics = [\"accuracy\"]\n",
    "               )\n",
    "\n",
    "initial_epoch = 5\n",
    "\n",
    "Fine_Tune_epoch = initial_epoch + 5\n",
    "\n",
    "Stage_2_history = Model_1.fit(train_ds ,\n",
    "                              epochs = Fine_Tune_epoch , \n",
    "                              validation_data = val_ds ,\n",
    "                              validation_steps = len(val_ds) ,\n",
    "                              initial_epoch = initial_epoch-1)"
   ]
  },
  {
   "cell_type": "code",
   "execution_count": null,
   "metadata": {},
   "outputs": [],
   "source": [
    "Model_1.save(\"C:/Users/User/Allergy-Pal/model.keras\")\n",
    "\n",
    "img = tf.keras.utils.load_img(\n",
    "    \"C:/Users/User/Downloads/pizza123.jpg\", target_size=(224, 224)\n",
    ")\n",
    "img_array = tf.keras.utils.img_to_array(img)\n",
    "img_array = tf.expand_dims(img_array, 0) \n",
    "\n",
    "\n",
    "predictions = Model_1.predict(img_array)\n",
    "score = tf.nn.softmax(predictions[0])\n",
    "\n",
    "print(\n",
    "    \"This image most likely belongs to {} with a {:.2f}% percent confidence.\"\n",
    "    .format(classes[np.argmax(score)], 100 * np.max(predictions[0]))\n",
    ")"
   ]
  }
 ],
 "metadata": {
  "kernelspec": {
   "display_name": "Python 3",
   "language": "python",
   "name": "python3"
  },
  "language_info": {
   "codemirror_mode": {
    "name": "ipython",
    "version": 3
   },
   "file_extension": ".py",
   "mimetype": "text/x-python",
   "name": "python",
   "nbconvert_exporter": "python",
   "pygments_lexer": "ipython3",
   "version": "3.10.6"
  }
 },
 "nbformat": 4,
 "nbformat_minor": 2
}
